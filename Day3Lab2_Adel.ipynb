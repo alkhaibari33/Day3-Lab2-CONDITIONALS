{
 "cells": [
  {
   "cell_type": "code",
   "execution_count": null,
   "id": "7dfac3c9",
   "metadata": {},
   "outputs": [],
   "source": [
    "x = \"The Deep House\"\n",
    "m = x + 5\n",
    "moiveRating = 5\n",
    "popularity =72.65"
   ]
  },
  {
   "cell_type": "code",
   "execution_count": null,
   "id": "977bbd68",
   "metadata": {},
   "outputs": [],
   "source": [
    "if moiveRating >= 4 and popularity >= 80 :\n",
    "    print (\"Highly recommended\")"
   ]
  }
 ],
 "metadata": {
  "kernelspec": {
   "display_name": "Python 3 (ipykernel)",
   "language": "python",
   "name": "python3"
  },
  "language_info": {
   "codemirror_mode": {
    "name": "ipython",
    "version": 3
   },
   "file_extension": ".py",
   "mimetype": "text/x-python",
   "name": "python",
   "nbconvert_exporter": "python",
   "pygments_lexer": "ipython3",
   "version": "3.9.12"
  }
 },
 "nbformat": 4,
 "nbformat_minor": 5
}
